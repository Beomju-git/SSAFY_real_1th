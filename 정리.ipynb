{
 "cells": [
  {
   "cell_type": "code",
   "execution_count": 1,
   "metadata": {},
   "outputs": [
    {
     "name": "stdout",
     "output_type": "stream",
     "text": [
      "Requirement already satisfied: pandas in c:\\users\\ssafy\\appdata\\local\\programs\\python\\python39\\lib\\site-packages (2.2.2)\n",
      "Note: you may need to restart the kernel to use updated packages.\n"
     ]
    },
    {
     "name": "stderr",
     "output_type": "stream",
     "text": [
      "ERROR: Could not find a version that satisfies the requirement json (from versions: none)\n",
      "ERROR: No matching distribution found for json\n"
     ]
    }
   ],
   "source": [
    "pip install pandas json time tqdm langchain_groq langchain_core dotenv\n"
   ]
  },
  {
   "cell_type": "code",
   "execution_count": 2,
   "metadata": {},
   "outputs": [],
   "source": [
    "import pandas as pd # 데이터 프레임 처리\n",
    "import json # 데이터 파일 읽기\n",
    "import time # 시간 처리\n",
    "from tqdm import tqdm # 진행 상황 표시\n",
    "from langchain_groq import ChatGroq # 챗봇 모델 사용\n",
    "from langchain_core.messages import HumanMessage, AIMessage # 메시지 형식\n",
    "from dotenv import load_dotenv # 환경 변수 처리\n",
    "import os # 환경 변수 처리\n"
   ]
  },
  {
   "cell_type": "code",
   "execution_count": 29,
   "metadata": {},
   "outputs": [
    {
     "name": "stdout",
     "output_type": "stream",
     "text": [
      "1. 데이터 크기:\n",
      "행 개수: 242\n",
      "열 개수: 11\n",
      "\n",
      "2. 컬럼명:\n",
      "['1', '정기 예금', 'WR0001B', '우리은행', 'WON플러스예금', '- 가입기간: 1~36개월\\\\\\n- 최소가입금액: 1만원 이상\\\\\\n- 만기일을 일,월 단위로 자유롭게 선택 가능\\\\\\n- 만기해지 시 신규일 당시 영업점과 인터넷 홈페이지에 고시된 계약기간별 금리 적용', '1.1', '실명의 개인', '인터넷,스마트폰,전화(텔레뱅킹)', '해당사항 없음', '20241120']\n",
      "\n",
      "3. 데이터 미리보기:\n",
      "                             1  정기 예금            WR0001B         우리은행  \\\n",
      "0                            2  정기 예금           00320342  한국스탠다드차타드은행   \n",
      "1                            3  정기 예금  10511008000996000        아이엠뱅크   \n",
      "2                            4  정기 예금  10511008001004000        아이엠뱅크   \n",
      "3                            5  정기 예금  10511008001166004        아이엠뱅크   \n",
      "4  -당행 오픈뱅킹서비스에 다른 은행 계좌 등록시 \\    NaN                NaN          NaN   \n",
      "\n",
      "            WON플러스예금  \\\n",
      "0          e-그린세이브예금   \n",
      "1  iM주거래우대예금(첫만남고객형)   \n",
      "2     iM행복파트너예금(일반형)   \n",
      "3             iM함께예금   \n",
      "4                NaN   \n",
      "\n",
      "  - 가입기간: 1~36개월\\\\n- 최소가입금액: 1만원 이상\\\\n- 만기일을 일,월 단위로 자유롭게 선택 가능\\\\n- 만기해지 시 신규일 당시 영업점과 인터넷 홈페이지에 고시된 계약기간별 금리 적용  \\\n",
      "0                            디지털채널 전용상품 (인터넷, 모바일뱅킹)                                                               \n",
      "1                                계좌당 가입 최저한도 : 100만원                                                               \n",
      "2                                계좌당 가입 최저한도 : 100만원                                                               \n",
      "3                                계좌당 가입 최저한도 : 100만원                                                               \n",
      "4                                                NaN                                                               \n",
      "\n",
      "   1.1          실명의 개인 인터넷,스마트폰,전화(텔레뱅킹)  \\\n",
      "0  1.0    개인(개인사업자 포함)          인터넷,스마트폰   \n",
      "1  1.0          실명의 개인      영업점,인터넷,스마트폰   \n",
      "2  3.0  만50세 이상 실명의 개인      영업점,인터넷,스마트폰   \n",
      "3  1.0  실명의 개인 및 개인사업자      영업점,인터넷,스마트폰   \n",
      "4  NaN             NaN               NaN   \n",
      "\n",
      "                                             해당사항 없음    20241120  \n",
      "0  1.SC제일은행 최초 거래 신규고객에 대하여 우대 이율을 제공함 (보너스이율0.2%...  20241120.0  \n",
      "1  * 최고우대금리 : 연0.65%p              \\\\n - 목돈굴리기예금 ...  20241120.0  \n",
      "2  * 최고우대금리 : 연0.45%p\\\\n- 지난달 당행 통장으로 연금 입금 실적 보유...  20241120.0  \n",
      "3  *최고우대금리: 연0.45%p\\\\n-전월 총 수신 평잔실적 또는 상품 가입 전 첫만...         NaN  \n",
      "4                                                NaN         NaN  \n",
      "\n",
      "4. 데이터 타입:\n",
      "1                                                                                                                  object\n",
      "정기 예금                                                                                                              object\n",
      "WR0001B                                                                                                            object\n",
      "우리은행                                                                                                               object\n",
      "WON플러스예금                                                                                                           object\n",
      "- 가입기간: 1~36개월\\\\n- 최소가입금액: 1만원 이상\\\\n- 만기일을 일,월 단위로 자유롭게 선택 가능\\\\n- 만기해지 시 신규일 당시 영업점과 인터넷 홈페이지에 고시된 계약기간별 금리 적용     object\n",
      "1.1                                                                                                               float64\n",
      "실명의 개인                                                                                                             object\n",
      "인터넷,스마트폰,전화(텔레뱅킹)                                                                                                  object\n",
      "해당사항 없음                                                                                                            object\n",
      "20241120                                                                                                          float64\n",
      "dtype: object\n"
     ]
    }
   ],
   "source": [
    "##1단계: CSV 파일 불러오기 및 기본 확인\n",
    "# CSV 파일 로드\n",
    "df = pd.read_csv('products_termdeposit.csv')\n",
    "\n",
    "# 데이터프레임 기본 정보 확인\n",
    "print(\"1. 데이터 크기:\")\n",
    "print(f\"행 개수: {df.shape[0]}\")\n",
    "print(f\"열 개수: {df.shape[1]}\")\n",
    "\n",
    "print(\"\\n2. 컬럼명:\")\n",
    "print(df.columns.tolist())\n",
    "\n",
    "print(\"\\n3. 데이터 미리보기:\")\n",
    "print(df.head())\n",
    "\n",
    "print(\"\\n4. 데이터 타입:\")\n",
    "print(df.dtypes)\n"
   ]
  },
  {
   "cell_type": "code",
   "execution_count": 30,
   "metadata": {},
   "outputs": [
    {
     "name": "stdout",
     "output_type": "stream",
     "text": [
      "\n",
      "5. 변경된 컬럼명 확인:\n",
      "['인덱스', '상품구분', '상품코드', '은행명', '상품명', '상품설명', '금리', '가입대상', '가입채널', '우대사항', '등록일자']\n"
     ]
    }
   ],
   "source": [
    "#2단계 한글로 칼럼명 변경\n",
    "# 현재 컬럼명을 보기 좋게 한글로 변경\n",
    "column_names = ['인덱스', '상품구분', '상품코드', '은행명', '상품명', \n",
    "                '상품설명', '금리', '가입대상', '가입채널', '우대사항', '등록일자']\n",
    "\n",
    "df.columns = column_names\n",
    "\n",
    "print(\"\\n5. 변경된 컬럼명 확인:\")\n",
    "print(df.columns.tolist())"
   ]
  },
  {
   "cell_type": "code",
   "execution_count": 34,
   "metadata": {},
   "outputs": [
    {
     "name": "stdout",
     "output_type": "stream",
     "text": [
      "\n",
      "6. 결측치 확인:\n",
      "인덱스     0\n",
      "상품구분    0\n",
      "상품코드    0\n",
      "은행명     0\n",
      "상품명     0\n",
      "상품설명    0\n",
      "금리      0\n",
      "가입대상    0\n",
      "가입채널    0\n",
      "우대사항    0\n",
      "등록일자    0\n",
      "dtype: int64\n",
      "인덱스     0\n",
      "상품구분    0\n",
      "상품코드    0\n",
      "은행명     0\n",
      "상품명     0\n",
      "상품설명    0\n",
      "금리      0\n",
      "가입대상    0\n",
      "가입채널    0\n",
      "우대사항    0\n",
      "등록일자    0\n",
      "dtype: int64\n",
      "\n",
      "7. 수치형 데이터 기본 통계:\n",
      "        인덱스   상품구분  상품코드     은행명   상품명 상품설명     금리  가입대상      가입채널 우대사항  \\\n",
      "count   242    242   242     242   242  242  242.0   242       242  242   \n",
      "unique  242      4   240      44   198  155    3.0    53        13  115   \n",
      "top       2  정기 예금  NULL  다올저축은행  정기예금   없음    1.0  제한없음  인터넷,스마트폰   없음   \n",
      "freq      1    122     3      13    13   27  231.0   104        62   82   \n",
      "\n",
      "              등록일자  \n",
      "count        242.0  \n",
      "unique        40.0  \n",
      "top     20241120.0  \n",
      "freq          96.0  \n",
      "\n",
      "8. 각 컬럼의 고유값 개수:\n",
      "인덱스     242\n",
      "상품구분      4\n",
      "상품코드    240\n",
      "은행명      44\n",
      "상품명     198\n",
      "상품설명    155\n",
      "금리        3\n",
      "가입대상     53\n",
      "가입채널     13\n",
      "우대사항    115\n",
      "등록일자     40\n",
      "dtype: int64\n"
     ]
    }
   ],
   "source": [
    "# 결측치 확인\n",
    "# 결측치 확인\n",
    "print(\"\\n6. 결측치 확인:\")\n",
    "print(df.isnull().sum())\n",
    "#결측치 NULL 값 처리\n",
    "df = df.fillna('NULL')\n",
    "print(df.isnull().sum())\n",
    "\n",
    "# 데이터 기본 통계\n",
    "print(\"\\n7. 수치형 데이터 기본 통계:\")\n",
    "print(df.describe())\n",
    "\n",
    "# 각 컬럼의 유니크 값 개수 확인\n",
    "print(\"\\n8. 각 컬럼의 고유값 개수:\")\n",
    "print(df.nunique())"
   ]
  },
  {
   "cell_type": "code",
   "execution_count": 3,
   "metadata": {},
   "outputs": [],
   "source": [
    "\n",
    "load_dotenv() # 환경 변수 로드\n",
    "groq_api_key = os.getenv(\"GROQ_API_KEY\") # 환경 변수에서 GROQ API 키 로드\n"
   ]
  },
  {
   "cell_type": "code",
   "execution_count": null,
   "metadata": {},
   "outputs": [
    {
     "name": "stdout",
     "output_type": "stream",
     "text": [
      "행 개수: 242\n",
      "열 개수: 11\n",
      "컬럼명: Index(['1', '정기 예금', 'WR0001B', '우리은행', 'WON플러스예금',\n",
      "       '- 가입기간: 1~36개월\\\\n- 최소가입금액: 1만원 이상\\\\n- 만기일을 일,월 단위로 자유롭게 선택 가능\\\\n- 만기해지 시 신규일 당시 영업점과 인터넷 홈페이지에 고시된 계약기간별 금리 적용',\n",
      "       '1.1', '실명의 개인', '인터넷,스마트폰,전화(텔레뱅킹)', '해당사항 없음', '20241120'],\n",
      "      dtype='object')\n"
     ]
    }
   ],
   "source": [
    "# CSV 파일 로드\n",
    "df = pd.read_csv('products_termdeposit.csv')\n",
    "\n",
    "# 데이터 크기 확인\n",
    "print(\"행 개수:\", df.shape[0])\n",
    "print(\"열 개수:\", df.shape[1])\n",
    "print(\"컬럼명:\", df.columns)"
   ]
  },
  {
   "cell_type": "markdown",
   "metadata": {},
   "source": [
    "#2. GROQ LLM 모델 설정"
   ]
  },
  {
   "cell_type": "code",
   "execution_count": 10,
   "metadata": {},
   "outputs": [],
   "source": [
    "groq_llm = ChatGroq(\n",
    "    model=\"llama-3.1-70b-versatile\",    # 모델 설정\n",
    "    temperature=0,                      # 일관된 응답을 위해 0으로 설정\n",
    "    max_tokens=4096,                    # 최대 토큰 수 설정\n",
    "    api_key=groq_api_key,                # API 키 설정\n",
    "    timeout=10,                         # 요청 시간 초과 설정\n",
    "    max_retries=3                        # 최대 재시도 횟수 설정\n",
    ")"
   ]
  },
  {
   "cell_type": "code",
   "execution_count": 36,
   "metadata": {},
   "outputs": [],
   "source": [
    "def process_product_description(text):\n",
    "    prompt = f\"\"\"\n",
    "    다음 금융상품 설명을 분석하여 아래 형식으로 정리해주세요:\n",
    "    {text}\n",
    "\n",
    "    형식:\n",
    "    가입기간:\n",
    "    최소가입금액:\n",
    "    주요특징:\n",
    "    \"\"\"\n",
    "    \n",
    "    try:\n",
    "        response = groq_llm.invoke([\n",
    "            {\"role\": \"user\", \"content\": prompt}\n",
    "        ])\n",
    "        return response.content\n",
    "    except Exception as e:\n",
    "        print(f\"처리 중 오류 발생: {e}\")\n",
    "        return text\n",
    "\n",
    "def process_benefits(text):\n",
    "    prompt = f\"\"\"\n",
    "    다음 금융상품 우대사항을 분석하여 아래 형식으로 정리해주세요:\n",
    "    {text}\n",
    "\n",
    "    형식:\n",
    "    우대조건:\n",
    "    우대혜택:\n",
    "    비고사항:\n",
    "    \"\"\"\n",
    "    \n",
    "    try:\n",
    "        response = groq_llm.invoke([\n",
    "            {\"role\": \"user\", \"content\": prompt}\n",
    "        ])\n",
    "        return response.content\n",
    "    except Exception as e:\n",
    "        print(f\"처리 중 오류 발생: {e}\")\n",
    "        return text"
   ]
  },
  {
   "cell_type": "code",
   "execution_count": 37,
   "metadata": {},
   "outputs": [
    {
     "name": "stdout",
     "output_type": "stream",
     "text": [
      "전체 데이터 처리 시작...\n"
     ]
    },
    {
     "name": "stderr",
     "output_type": "stream",
     "text": [
      "100%|██████████| 242/242 [20:54<00:00,  5.18s/it]"
     ]
    },
    {
     "name": "stdout",
     "output_type": "stream",
     "text": [
      "\n",
      "처리 완료된 데이터 샘플:\n",
      "                 상품명                                               상품설명  \\\n",
      "0          e-그린세이브예금  금융상품의 설명이 제공되지 않았습니다. 제공된 설명에 따라 다음과 같이 정리하였습니...   \n",
      "1  iM주거래우대예금(첫만남고객형)  以下은 금융상품의 설명을 분석하여 정리한 결과입니다.\\n\\n* 가입기간: (없음)\\...   \n",
      "2     iM행복파트너예금(일반형)  금융상품 설명 분석 결과입니다.\\n\\n* 가입기간: 설명에서 언급되지 않았습니다.\\...   \n",
      "3             iM함께예금  금융상품의 주요 특징은 다음과 같습니다.\\n\\n* 가입기간: (없음)\\n* 최소가입...   \n",
      "4               NULL  제공된 정보가 없으므로, 빈칸으로 표시합니다.\\n\\n가입기간: \\n최소가입금액: \\...   \n",
      "\n",
      "                                                우대사항  \n",
      "0  다음은 금융상품 우대사항을 분석하여 정리한 결과입니다.\\n\\n**우대사항 1**\\n...  \n",
      "1  우대조건:\\n1. 목돈굴리기예금 최초 가입\\n2. 신용(체크)카드 신규 발급 (최근...  \n",
      "2  우대조건:\\n1. 지난달 당행 통장으로 연금 입금 실적 보유\\n2. 상품 가입 전 ...  \n",
      "3  우대조건: 전월 총 수신 평잔실적 또는 상품 가입 전 첫만남플러스 통장 보유, 당행...  \n",
      "4  제공된 정보가 없습니다. 금융상품 우대사항을 분석하여 정리해드리겠습니다.\\n\\nNU...  \n",
      "\n",
      "처리된 데이터 정보:\n",
      "<class 'pandas.core.frame.DataFrame'>\n",
      "RangeIndex: 242 entries, 0 to 241\n",
      "Data columns (total 11 columns):\n",
      " #   Column  Non-Null Count  Dtype \n",
      "---  ------  --------------  ----- \n",
      " 0   인덱스     242 non-null    object\n",
      " 1   상품구분    242 non-null    object\n",
      " 2   상품코드    242 non-null    object\n",
      " 3   은행명     242 non-null    object\n",
      " 4   상품명     242 non-null    object\n",
      " 5   상품설명    242 non-null    object\n",
      " 6   금리      242 non-null    object\n",
      " 7   가입대상    242 non-null    object\n",
      " 8   가입채널    242 non-null    object\n",
      " 9   우대사항    242 non-null    object\n",
      " 10  등록일자    242 non-null    object\n",
      "dtypes: object(11)\n",
      "memory usage: 20.9+ KB\n",
      "None\n"
     ]
    },
    {
     "name": "stderr",
     "output_type": "stream",
     "text": [
      "\n"
     ]
    }
   ],
   "source": [
    "from tqdm import tqdm\n",
    "import time\n",
    "\n",
    "# 처리된 결과를 저장할 새로운 데이터프레임 생성\n",
    "processed_df = df.copy()\n",
    "\n",
    "# 진행바와 함께 전체 데이터 처리\n",
    "print(\"전체 데이터 처리 시작...\")\n",
    "for idx in tqdm(processed_df.index):\n",
    "    # API 호출 제한을 고려한 딜레이 추가\n",
    "    time.sleep(0.5)\n",
    "    \n",
    "    try:\n",
    "        # 상품설명 처리\n",
    "        processed_df.at[idx, '상품설명'] = process_product_description(\n",
    "            processed_df.loc[idx, '상품설명']\n",
    "        )\n",
    "        \n",
    "        # 우대사항 처리\n",
    "        processed_df.at[idx, '우대사항'] = process_benefits(\n",
    "            processed_df.loc[idx, '우대사항']\n",
    "        )\n",
    "        \n",
    "    except Exception as e:\n",
    "        print(f\"\\n행 {idx} 처리 중 오류 발생: {e}\")\n",
    "        continue\n",
    "\n",
    "# 처리 결과 확인\n",
    "print(\"\\n처리 완료된 데이터 샘플:\")\n",
    "print(processed_df[['상품명', '상품설명', '우대사항']].head())\n",
    "\n",
    "# 처리된 데이터의 기본 통계 확인\n",
    "print(\"\\n처리된 데이터 정보:\")\n",
    "print(processed_df.info())"
   ]
  },
  {
   "cell_type": "code",
   "execution_count": null,
   "metadata": {},
   "outputs": [],
   "source": [
    "# 처리 전후 비교\n",
    "def compare_changes(original_df, processed_df, column):\n",
    "    print(f\"\\n{column} 변경 사례:\")\n",
    "    for idx in range(3):  # 처음 3개 행만 비교\n",
    "        print(f\"\\n행 {idx}:\")\n",
    "        print(\"처리 전:\", original_df.loc[idx, column])\n",
    "        print(\"처리 후:\", processed_df.loc[idx, column])\n",
    "        print(\"-\" * 50)\n",
    "\n",
    "# 상품설명과 우대사항 컬럼의 변경사항 확인\n",
    "compare_changes(df, processed_df, '상품설명')\n",
    "compare_changes(df, processed_df, '우대사항')\n",
    "\n",
    "# 처리 실패 여부 확인\n",
    "def check_processing_failures(original_df, processed_df):\n",
    "    failures = 0\n",
    "    for idx in processed_df.index:\n",
    "        if (processed_df.loc[idx, '상품설명'] == original_df.loc[idx, '상품설명'] and \n",
    "            processed_df.loc[idx, '우대사항'] == original_df.loc[idx, '우대사항']):\n",
    "            failures += 1\n",
    "    \n",
    "    return failures\n",
    "\n",
    "failures = check_processing_failures(df, processed_df)\n",
    "print(f\"\\n처리 실패 건수: {failures}\")"
   ]
  }
 ],
 "metadata": {
  "kernelspec": {
   "display_name": "Python 3",
   "language": "python",
   "name": "python3"
  },
  "language_info": {
   "codemirror_mode": {
    "name": "ipython",
    "version": 3
   },
   "file_extension": ".py",
   "mimetype": "text/x-python",
   "name": "python",
   "nbconvert_exporter": "python",
   "pygments_lexer": "ipython3",
   "version": "3.9.13"
  }
 },
 "nbformat": 4,
 "nbformat_minor": 2
}
